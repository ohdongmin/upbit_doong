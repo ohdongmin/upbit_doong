{
 "cells": [
  {
   "cell_type": "code",
   "execution_count": 1,
   "metadata": {},
   "outputs": [
    {
     "name": "stdout",
     "output_type": "stream",
     "text": [
      "KRW-ONT 6000원 매수완료\n",
      "{\"uuid\": \"47d8bc97-4aaf-4f41-a099-8f50f7fbd52f\", \"side\": \"bid\", \"ord_type\": \"price\", \"price\": \"6000\", \"state\": \"wait\", \"market\": \"KRW-ONT\", \"created_at\": \"2024-04-26T21:23:38+09:00\", \"reserved_fee\": \"3\", \"remaining_fee\": \"3\", \"paid_fee\": \"0\", \"locked\": \"6003\", \"executed_volume\": \"0\", \"trades_count\": 0}\n"
     ]
    }
   ],
   "source": [
    "import pyupbit\n",
    "import time\n",
    "from datetime import datetime\n",
    "from pytz import timezone\n",
    "import pandas as pd\n",
    "import json\n",
    "from dotenv import load_dotenv # pip install python-dotenv\n",
    "import os\n",
    "\n",
    "def buy(ticker, money):\n",
    "    time.sleep(0.1)\n",
    "    b = upbit.buy_market_order(ticker, money)\n",
    "    try:\n",
    "        if b['error']:\n",
    "            b = upbit.buy_market_order(ticker, 100000)\n",
    "            msg = \"error \" + str(ticker)+\" \"+str(100000)+\"원 매수시도\"+\"\\n\"+json.dumps(b, ensure_ascii = False)\n",
    "    except:\n",
    "        msg = str(ticker)+\" \"+str(money)+\"원 매수완료\"+\"\\n\"+json.dumps(b, ensure_ascii = False)\n",
    "    print(msg)\n",
    "\n",
    "def sell(ticker):\n",
    "    time.sleep(0.1)\n",
    "    balance = upbit.get_balance(ticker)\n",
    "    s = upbit.sell_market_order(ticker, balance)\n",
    "    msg = str(ticker)+\"매도 완료\"+\"\\n\"+json.dumps(s, ensure_ascii = False)\n",
    "    print(msg)\n",
    "\n",
    "\n",
    "load_dotenv()\n",
    "access = os.environ[\"access\"]  #access 키\n",
    "secret = os.environ[\"secret\"]  #secret 키\n",
    "upbit = pyupbit.Upbit(access, secret)\n",
    "\n",
    "\n",
    "# cnt = 0\n",
    "# while True:\n",
    "#     now = datetime.now()\n",
    "#     if now.second%10 == 1:\n",
    "#         buy(\"KRW-BTC\",6000)\n",
    "#         time.sleep(5)\n",
    "#         sell(\"KRW-BTC\")\n",
    "#         cnt += 1\n",
    "#     if cnt == 5:\n",
    "#         break\n",
    "\n",
    "buy('KRW-ONT',6000)\n"
   ]
  },
  {
   "cell_type": "code",
   "execution_count": 85,
   "metadata": {},
   "outputs": [
    {
     "ename": "KeyError",
     "evalue": "'created_at'",
     "output_type": "error",
     "traceback": [
      "\u001b[1;31m---------------------------------------------------------------------------\u001b[0m",
      "\u001b[1;31mKeyError\u001b[0m                                  Traceback (most recent call last)",
      "Cell \u001b[1;32mIn[85], line 1\u001b[0m\n\u001b[1;32m----> 1\u001b[0m \u001b[43msell\u001b[49m\u001b[43m(\u001b[49m\u001b[38;5;124;43m\"\u001b[39;49m\u001b[38;5;124;43mKRW-ONT\u001b[39;49m\u001b[38;5;124;43m\"\u001b[39;49m\u001b[43m)\u001b[49m\n",
      "Cell \u001b[1;32mIn[83], line 8\u001b[0m, in \u001b[0;36msell\u001b[1;34m(ticker)\u001b[0m\n\u001b[0;32m      6\u001b[0m msg \u001b[38;5;241m=\u001b[39m \u001b[38;5;28mstr\u001b[39m(ticker)\u001b[38;5;241m+\u001b[39m\u001b[38;5;124m\"\u001b[39m\u001b[38;5;124m매도 완료\u001b[39m\u001b[38;5;124m\"\u001b[39m\u001b[38;5;241m+\u001b[39m\u001b[38;5;124m\"\u001b[39m\u001b[38;5;130;01m\\n\u001b[39;00m\u001b[38;5;124m\"\u001b[39m\n\u001b[0;32m      7\u001b[0m ww \u001b[38;5;241m=\u001b[39m \u001b[38;5;28meval\u001b[39m(json\u001b[38;5;241m.\u001b[39mdumps(s, ensure_ascii \u001b[38;5;241m=\u001b[39m \u001b[38;5;28;01mFalse\u001b[39;00m))\n\u001b[1;32m----> 8\u001b[0m lst \u001b[38;5;241m=\u001b[39m [\u001b[43mww\u001b[49m\u001b[43m[\u001b[49m\u001b[38;5;124;43m'\u001b[39;49m\u001b[38;5;124;43mcreated_at\u001b[39;49m\u001b[38;5;124;43m'\u001b[39;49m\u001b[43m]\u001b[49m, ww[\u001b[38;5;124m'\u001b[39m\u001b[38;5;124mmarket\u001b[39m\u001b[38;5;124m'\u001b[39m], ww[\u001b[38;5;124m'\u001b[39m\u001b[38;5;124mside\u001b[39m\u001b[38;5;124m'\u001b[39m], \u001b[38;5;28mfloat\u001b[39m(ww[\u001b[38;5;124m'\u001b[39m\u001b[38;5;124mvolume\u001b[39m\u001b[38;5;124m'\u001b[39m]), current, \u001b[38;5;28mint\u001b[39m(\u001b[38;5;28mfloat\u001b[39m(ww[\u001b[38;5;124m'\u001b[39m\u001b[38;5;124mvolume\u001b[39m\u001b[38;5;124m'\u001b[39m])\u001b[38;5;241m*\u001b[39mcurrent), \u001b[38;5;28mint\u001b[39m(\u001b[38;5;28mfloat\u001b[39m(ww[\u001b[38;5;124m'\u001b[39m\u001b[38;5;124mvolume\u001b[39m\u001b[38;5;124m'\u001b[39m])\u001b[38;5;241m*\u001b[39mcurrent\u001b[38;5;241m*\u001b[39m\u001b[38;5;241m0.0005\u001b[39m), \u001b[38;5;28mround\u001b[39m(\u001b[38;5;28mfloat\u001b[39m(ww[\u001b[38;5;124m'\u001b[39m\u001b[38;5;124mvolume\u001b[39m\u001b[38;5;124m'\u001b[39m])\u001b[38;5;241m*\u001b[39mcurrent\u001b[38;5;241m*\u001b[39m\u001b[38;5;241m0.9995\u001b[39m)]\n\u001b[0;32m      9\u001b[0m \u001b[38;5;66;03m# df = pd.read_excel(\"trading history.xlsx\")\u001b[39;00m\n\u001b[0;32m     10\u001b[0m row_cnt \u001b[38;5;241m=\u001b[39m \u001b[38;5;28mlen\u001b[39m(df)\n",
      "\u001b[1;31mKeyError\u001b[0m: 'created_at'"
     ]
    }
   ],
   "source": []
  },
  {
   "cell_type": "code",
   "execution_count": 72,
   "metadata": {},
   "outputs": [
    {
     "data": {
      "text/html": [
       "<div>\n",
       "<style scoped>\n",
       "    .dataframe tbody tr th:only-of-type {\n",
       "        vertical-align: middle;\n",
       "    }\n",
       "\n",
       "    .dataframe tbody tr th {\n",
       "        vertical-align: top;\n",
       "    }\n",
       "\n",
       "    .dataframe thead th {\n",
       "        text-align: right;\n",
       "    }\n",
       "</style>\n",
       "<table border=\"1\" class=\"dataframe\">\n",
       "  <thead>\n",
       "    <tr style=\"text-align: right;\">\n",
       "      <th></th>\n",
       "      <th>created_at</th>\n",
       "      <th>market</th>\n",
       "      <th>side</th>\n",
       "      <th>volume</th>\n",
       "      <th>current_price</th>\n",
       "      <th>price</th>\n",
       "      <th>fee</th>\n",
       "      <th>final</th>\n",
       "    </tr>\n",
       "  </thead>\n",
       "  <tbody>\n",
       "  </tbody>\n",
       "</table>\n",
       "</div>"
      ],
      "text/plain": [
       "Empty DataFrame\n",
       "Columns: [created_at, market, side, volume, current_price, price, fee, final]\n",
       "Index: []"
      ]
     },
     "execution_count": 72,
     "metadata": {},
     "output_type": "execute_result"
    }
   ],
   "source": [
    "column = ['created_at','market','side','volume', 'current_price','price','fee','final']\n",
    "df = pd.DataFrame(columns = column)\n",
    "df.to_excel(\"trading history.xlsx\")"
   ]
  },
  {
   "cell_type": "code",
   "execution_count": 92,
   "metadata": {},
   "outputs": [],
   "source": [
    "def buy(ticker, money):\n",
    "    time.sleep(0.1)\n",
    "    current = pyupbit.get_current_price(ticker) \n",
    "    b = upbit.buy_market_order(ticker, money)\n",
    "    try:\n",
    "        if b['error']:\n",
    "            b = upbit.buy_market_order(ticker, 100000)\n",
    "            msg = \"error \" + str(ticker)+\" \"+str(100000)+\"원 매수시도\"+\"\\n\"+json.dumps(b, ensure_ascii = False)\n",
    "    except:\n",
    "        msg = str(ticker)+\" \"+str(money)+\"원 매수완료\"+\"\\n\"\n",
    "        w = eval(json.dumps(b, ensure_ascii = False))\n",
    "        lst = [w['created_at'], w['market'], w['side'], int(w['price'])/current, current, int(w['price']), int(w['reserved_fee']), int(w['locked'])]\n",
    "        df = pd.read_excel(\"trading history.xlsx\")\n",
    "        row_cnt = len(df)\n",
    "        df.loc[row_cnt+1] =lst\n",
    "        df.to_excel(\"trading history.xlsx\",index = False)\n",
    "\n",
    "\n",
    "    print(msg)"
   ]
  },
  {
   "cell_type": "code",
   "execution_count": 93,
   "metadata": {},
   "outputs": [],
   "source": [
    "def sell(ticker):\n",
    "    time.sleep(0.1)\n",
    "    current = pyupbit.get_current_price(ticker) \n",
    "    balance = upbit.get_balance(ticker)\n",
    "    s = upbit.sell_market_order(ticker, balance)\n",
    "    msg = str(ticker)+\"매도 완료\"+\"\\n\"\n",
    "    ww = eval(json.dumps(s, ensure_ascii = False))\n",
    "    lst = [ww['created_at'], ww['market'], ww['side'], float(ww['volume']), current, int(float(ww['volume'])*current), int(float(ww['volume'])*current*0.0005), round(float(ww['volume'])*current*0.9995)]\n",
    "    df = pd.read_excel(\"trading history.xlsx\")\n",
    "    row_cnt = len(df)\n",
    "    df.loc[row_cnt+1] =lst\n",
    "    df.to_excel(\"trading history.xlsx\",index = False)\n",
    "    print(msg)\n"
   ]
  },
  {
   "cell_type": "code",
   "execution_count": 90,
   "metadata": {},
   "outputs": [
    {
     "data": {
      "text/html": [
       "<div>\n",
       "<style scoped>\n",
       "    .dataframe tbody tr th:only-of-type {\n",
       "        vertical-align: middle;\n",
       "    }\n",
       "\n",
       "    .dataframe tbody tr th {\n",
       "        vertical-align: top;\n",
       "    }\n",
       "\n",
       "    .dataframe thead th {\n",
       "        text-align: right;\n",
       "    }\n",
       "</style>\n",
       "<table border=\"1\" class=\"dataframe\">\n",
       "  <thead>\n",
       "    <tr style=\"text-align: right;\">\n",
       "      <th></th>\n",
       "      <th>created_at</th>\n",
       "      <th>market</th>\n",
       "      <th>side</th>\n",
       "      <th>volume</th>\n",
       "      <th>current_price</th>\n",
       "      <th>price</th>\n",
       "      <th>fee</th>\n",
       "      <th>final</th>\n",
       "    </tr>\n",
       "  </thead>\n",
       "  <tbody>\n",
       "    <tr>\n",
       "      <th>1</th>\n",
       "      <td>2024-04-26T23:07:52+09:00</td>\n",
       "      <td>KRW-ONT</td>\n",
       "      <td>bid</td>\n",
       "      <td>11.076241</td>\n",
       "      <td>541.7</td>\n",
       "      <td>6000</td>\n",
       "      <td>3</td>\n",
       "      <td>6003</td>\n",
       "    </tr>\n",
       "    <tr>\n",
       "      <th>2</th>\n",
       "      <td>2024-04-26T23:09:19+09:00</td>\n",
       "      <td>KRW-ONT</td>\n",
       "      <td>bid</td>\n",
       "      <td>11.047689</td>\n",
       "      <td>543.1</td>\n",
       "      <td>6000</td>\n",
       "      <td>3</td>\n",
       "      <td>6003</td>\n",
       "    </tr>\n",
       "    <tr>\n",
       "      <th>3</th>\n",
       "      <td>2024-04-26T23:12:18+09:00</td>\n",
       "      <td>KRW-ONT</td>\n",
       "      <td>bid</td>\n",
       "      <td>10.972933</td>\n",
       "      <td>546.8</td>\n",
       "      <td>6000</td>\n",
       "      <td>3</td>\n",
       "      <td>6003</td>\n",
       "    </tr>\n",
       "    <tr>\n",
       "      <th>4</th>\n",
       "      <td>2024-04-26T23:12:23+09:00</td>\n",
       "      <td>KRW-ONT</td>\n",
       "      <td>ask</td>\n",
       "      <td>10.968921</td>\n",
       "      <td>547.0</td>\n",
       "      <td>5999</td>\n",
       "      <td>2</td>\n",
       "      <td>5997</td>\n",
       "    </tr>\n",
       "  </tbody>\n",
       "</table>\n",
       "</div>"
      ],
      "text/plain": [
       "                  created_at   market side     volume  current_price  price  \\\n",
       "1  2024-04-26T23:07:52+09:00  KRW-ONT  bid  11.076241          541.7   6000   \n",
       "2  2024-04-26T23:09:19+09:00  KRW-ONT  bid  11.047689          543.1   6000   \n",
       "3  2024-04-26T23:12:18+09:00  KRW-ONT  bid  10.972933          546.8   6000   \n",
       "4  2024-04-26T23:12:23+09:00  KRW-ONT  ask  10.968921          547.0   5999   \n",
       "\n",
       "   fee  final  \n",
       "1    3   6003  \n",
       "2    3   6003  \n",
       "3    3   6003  \n",
       "4    2   5997  "
      ]
     },
     "execution_count": 90,
     "metadata": {},
     "output_type": "execute_result"
    }
   ],
   "source": [
    "df"
   ]
  },
  {
   "cell_type": "code",
   "execution_count": 94,
   "metadata": {},
   "outputs": [
    {
     "name": "stdout",
     "output_type": "stream",
     "text": [
      "KRW-BTC 6000원 매수완료\n",
      "\n"
     ]
    }
   ],
   "source": [
    "buy('KRW-BTC',6000)"
   ]
  },
  {
   "cell_type": "code",
   "execution_count": 95,
   "metadata": {},
   "outputs": [
    {
     "name": "stdout",
     "output_type": "stream",
     "text": [
      "KRW-BTC매도 완료\n",
      "\n"
     ]
    }
   ],
   "source": [
    "sell(\"KRW-BTC\")"
   ]
  },
  {
   "cell_type": "code",
   "execution_count": 91,
   "metadata": {},
   "outputs": [],
   "source": []
  },
  {
   "cell_type": "code",
   "execution_count": null,
   "metadata": {},
   "outputs": [],
   "source": []
  }
 ],
 "metadata": {
  "kernelspec": {
   "display_name": "Python 3",
   "language": "python",
   "name": "python3"
  },
  "language_info": {
   "codemirror_mode": {
    "name": "ipython",
    "version": 3
   },
   "file_extension": ".py",
   "mimetype": "text/x-python",
   "name": "python",
   "nbconvert_exporter": "python",
   "pygments_lexer": "ipython3",
   "version": "3.11.2"
  }
 },
 "nbformat": 4,
 "nbformat_minor": 2
}
