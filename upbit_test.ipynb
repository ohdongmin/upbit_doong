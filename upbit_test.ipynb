{
 "cells": [
  {
   "cell_type": "code",
   "execution_count": 2,
   "metadata": {},
   "outputs": [
    {
     "name": "stdout",
     "output_type": "stream",
     "text": [
      "                           open        high         low       close  \\\n",
      "2024-03-08 14:45:00  94344000.0  94377000.0  94304000.0  94350000.0   \n",
      "2024-03-08 14:48:00  94343000.0  94350000.0  94322000.0  94349000.0   \n",
      "2024-03-08 14:51:00  94348000.0  94351000.0  94331000.0  94331000.0   \n",
      "2024-03-08 14:54:00  94346000.0  94380000.0  94320000.0  94380000.0   \n",
      "2024-03-08 14:57:00  94390000.0  94444000.0  94380000.0  94437000.0   \n",
      "...                         ...         ...         ...         ...   \n",
      "2024-03-09 00:30:00  97900000.0  98543000.0  94950000.0  96000000.0   \n",
      "2024-03-09 00:33:00  96311000.0  97000000.0  95984000.0  96616000.0   \n",
      "2024-03-09 00:36:00  96692000.0  96698000.0  95300000.0  95518000.0   \n",
      "2024-03-09 00:39:00  95600000.0  96546000.0  95509000.0  96543000.0   \n",
      "2024-03-09 00:42:00  96543000.0  96546000.0  96248000.0  96367000.0   \n",
      "\n",
      "                         volume         value  \n",
      "2024-03-08 14:45:00   11.147468  1.051610e+09  \n",
      "2024-03-08 14:48:00    3.638957  3.433147e+08  \n",
      "2024-03-08 14:51:00    7.746446  7.308456e+08  \n",
      "2024-03-08 14:54:00    6.532375  6.163228e+08  \n",
      "2024-03-08 14:57:00    5.640815  5.325469e+08  \n",
      "...                         ...           ...  \n",
      "2024-03-09 00:30:00  432.243999  4.194775e+10  \n",
      "2024-03-09 00:33:00  202.992524  1.960819e+10  \n",
      "2024-03-09 00:36:00  171.702081  1.650330e+10  \n",
      "2024-03-09 00:39:00  116.918224  1.124041e+10  \n",
      "2024-03-09 00:42:00   41.609112  4.010935e+09  \n",
      "\n",
      "[200 rows x 6 columns]\n"
     ]
    }
   ],
   "source": [
    "#5분봉 불러오기\n",
    "import pyupbit\n",
    "df=pyupbit.get_ohlcv(\"KRW-BTC\",\"minute5\")\n",
    "print(df)\n"
   ]
  },
  {
   "cell_type": "code",
   "execution_count": 2,
   "metadata": {},
   "outputs": [
    {
     "name": "stdout",
     "output_type": "stream",
     "text": [
      "['KRW-BTC', 'KRW-ETH', 'KRW-NEO', 'KRW-MTL', 'KRW-XRP', 'KRW-ETC', 'KRW-SNT', 'KRW-WAVES', 'KRW-XEM', 'KRW-QTUM', 'KRW-LSK', 'KRW-STEEM', 'KRW-XLM', 'KRW-ARDR', 'KRW-ARK', 'KRW-STORJ', 'KRW-GRS', 'KRW-ADA', 'KRW-SBD', 'KRW-POWR', 'KRW-BTG', 'KRW-ICX', 'KRW-EOS', 'KRW-TRX', 'KRW-SC', 'KRW-ONT', 'KRW-ZIL', 'KRW-POLYX', 'KRW-ZRX', 'KRW-LOOM', 'KRW-BCH', 'KRW-BAT', 'KRW-IOST', 'KRW-CVC', 'KRW-IQ', 'KRW-IOTA', 'KRW-HIFI', 'KRW-ONG', 'KRW-GAS', 'KRW-UPP', 'KRW-ELF', 'KRW-KNC', 'KRW-BSV', 'KRW-THETA', 'KRW-QKC', 'KRW-BTT', 'KRW-MOC', 'KRW-TFUEL', 'KRW-MANA', 'KRW-ANKR', 'KRW-AERGO', 'KRW-ATOM', 'KRW-TT', 'KRW-CRE', 'KRW-MBL', 'KRW-WAXP', 'KRW-HBAR', 'KRW-MED', 'KRW-MLK', 'KRW-STPT', 'KRW-ORBS', 'KRW-VET', 'KRW-CHZ', 'KRW-STMX', 'KRW-DKA', 'KRW-HIVE', 'KRW-KAVA', 'KRW-AHT', 'KRW-LINK', 'KRW-XTZ', 'KRW-BORA', 'KRW-JST', 'KRW-CRO', 'KRW-TON', 'KRW-SXP', 'KRW-HUNT', 'KRW-PDA', 'KRW-DOT', 'KRW-MVL', 'KRW-STRAX', 'KRW-AQT', 'KRW-GLM', 'KRW-SSX', 'KRW-META', 'KRW-FCT2', 'KRW-CBK', 'KRW-SAND', 'KRW-HPO', 'KRW-DOGE', 'KRW-STRIKE', 'KRW-PUNDIX', 'KRW-FLOW', 'KRW-AXS', 'KRW-STX', 'KRW-XEC', 'KRW-SOL', 'KRW-MATIC', 'KRW-AAVE', 'KRW-1INCH', 'KRW-ALGO', 'KRW-NEAR', 'KRW-AVAX', 'KRW-T', 'KRW-CELO', 'KRW-GMT', 'KRW-APT', 'KRW-SHIB', 'KRW-MASK', 'KRW-ARB', 'KRW-EGLD', 'KRW-SUI', 'KRW-GRT', 'KRW-BLUR', 'KRW-IMX', 'KRW-SEI', 'KRW-MINA', 'KRW-CTC', 'KRW-ASTR', 'KRW-ID', 'KRW-PYTH']\n"
     ]
    }
   ],
   "source": [
    "import pyupbit\n",
    "tickers = pyupbit.get_tickers(\"KRW\")\t# KRW를 통해 거래되는 코인만 불러오기\n",
    "print(tickers)"
   ]
  },
  {
   "cell_type": "code",
   "execution_count": null,
   "metadata": {},
   "outputs": [],
   "source": [
    "dic_ticker = {}\n",
    "\n",
    "for ticker in tickers:\n",
    "    df = pyupbit.get_ohlcv(ticker, 'day')\t# 'day' 기간의 거래대금을 구해준다\n",
    "    volume_money = 0.0  \n",
    "    for i in range(1, 8):\n",
    "        volume_money += df['close'][-i] * df['volume'][-i]  \n",
    "\n",
    "    dic_ticker[ticker] = volume_money\n",
    "    print(ticker, dic_ticker[ticker])"
   ]
  },
  {
   "cell_type": "code",
   "execution_count": 4,
   "metadata": {},
   "outputs": [
    {
     "name": "stdout",
     "output_type": "stream",
     "text": [
      "Login COMPLETE\n",
      "====================================\n",
      "[{'uuid': 'd36ed16a-baca-4fbc-beaa-ba7ae6746a0d', 'side': 'ask', 'ord_type': 'market', 'state': 'done', 'market': 'KRW-BTC', 'created_at': '2024-03-09T01:11:33+09:00', 'volume': '0.00565017', 'remaining_volume': '0', 'reserved_fee': '0', 'remaining_fee': '0', 'paid_fee': '266.54976975', 'locked': '0', 'executed_volume': '0.00565017', 'trades_count': 2}, {'uuid': '4fab1d45-c8de-4073-baa6-468670396387', 'side': 'ask', 'ord_type': 'market', 'state': 'done', 'market': 'KRW-BTC', 'created_at': '2024-03-09T00:18:44+09:00', 'volume': '0.0001', 'remaining_volume': '0', 'reserved_fee': '0', 'remaining_fee': '0', 'paid_fee': '4.8446', 'locked': '0', 'executed_volume': '0.0001', 'trades_count': 1}, {'uuid': 'ae4b48dc-f2f4-4b2f-81d1-53bd43ae4a7d', 'side': 'bid', 'ord_type': 'limit', 'price': '91739000', 'state': 'done', 'market': 'KRW-BTC', 'created_at': '2024-03-04T23:38:30+09:00', 'volume': '0.01140035', 'remaining_volume': '0', 'reserved_fee': '522.928354325', 'remaining_fee': '0', 'paid_fee': '522.928354325', 'locked': '0', 'executed_volume': '0.01140035', 'trades_count': 1}, {'uuid': '2704501c-33f1-4f6a-842f-d712be79f1f5', 'side': 'ask', 'ord_type': 'market', 'state': 'done', 'market': 'KRW-BTC', 'created_at': '2024-03-03T16:24:50+09:00', 'volume': '0.00651694', 'remaining_volume': '0', 'reserved_fee': '0', 'remaining_fee': '0', 'paid_fee': '279.654963715', 'locked': '0', 'executed_volume': '0.00651694', 'trades_count': 4}, {'uuid': '0ca20113-4073-479f-9bb2-e7c953525fc5', 'side': 'ask', 'ord_type': 'limit', 'price': '86722000', 'state': 'done', 'market': 'KRW-BTC', 'created_at': '2024-03-01T07:06:38+09:00', 'volume': '0.00651693', 'remaining_volume': '0', 'reserved_fee': '0', 'remaining_fee': '0', 'paid_fee': '282.58060173', 'locked': '0', 'executed_volume': '0.00651693', 'trades_count': 4}, {'uuid': '3a3f3a5e-f96e-409a-8709-553d794b6891', 'side': 'ask', 'ord_type': 'limit', 'price': '88493000', 'state': 'done', 'market': 'KRW-BTC', 'created_at': '2024-02-29T16:50:23+09:00', 'volume': '0.01303387', 'remaining_volume': '0', 'reserved_fee': '0', 'remaining_fee': '0', 'paid_fee': '576.703128955', 'locked': '0', 'executed_volume': '0.01303387', 'trades_count': 4}, {'uuid': '8bfe3e10-d4dd-4730-a422-7c52593023f6', 'side': 'bid', 'ord_type': 'limit', 'price': '87845000', 'state': 'done', 'market': 'KRW-BTC', 'created_at': '2024-02-29T08:52:43+09:00', 'volume': '0.025', 'remaining_volume': '0', 'reserved_fee': '1098.0625', 'remaining_fee': '0', 'paid_fee': '1098.0625', 'locked': '0', 'executed_volume': '0.025', 'trades_count': 1}, {'uuid': 'e6566e32-f779-4449-986d-53b45e86a930', 'side': 'ask', 'ord_type': 'limit', 'price': '43577000', 'state': 'done', 'market': 'KRW-BTC', 'created_at': '2022-05-09T19:44:35+09:00', 'volume': '0.00168099', 'remaining_volume': '0', 'reserved_fee': '0', 'remaining_fee': '0', 'paid_fee': '36.626250615', 'locked': '0', 'executed_volume': '0.00168099', 'trades_count': 1}, {'uuid': 'ddbc749d-583a-45d9-b19e-379236b48cbf', 'side': 'ask', 'ord_type': 'limit', 'price': '42151000', 'state': 'done', 'market': 'KRW-BTC', 'created_at': '2022-01-25T02:14:39+09:00', 'volume': '0.00168098', 'remaining_volume': '0', 'reserved_fee': '0', 'remaining_fee': '0', 'paid_fee': '35.43085595', 'locked': '0', 'executed_volume': '0.00168098', 'trades_count': 1}, {'uuid': '6b42801c-2992-432b-ade4-fb672695b4f1', 'side': 'bid', 'ord_type': 'limit', 'price': '74500000', 'state': 'done', 'market': 'KRW-BTC', 'created_at': '2021-10-16T02:34:00+09:00', 'volume': '0.00336197', 'remaining_volume': '0', 'reserved_fee': '125.2333825', 'remaining_fee': '0', 'paid_fee': '125.2333825', 'locked': '0', 'executed_volume': '0.00336197', 'trades_count': 1}, {'uuid': '7092a4d1-5520-426c-8f5e-22f594958aee', 'side': 'ask', 'ord_type': 'limit', 'price': '42531000', 'state': 'done', 'market': 'KRW-BTC', 'created_at': '2021-01-11T06:13:15+09:00', 'volume': '0.00460677', 'remaining_volume': '0', 'reserved_fee': '0', 'remaining_fee': '0', 'paid_fee': '97.965267435', 'locked': '0', 'executed_volume': '0.00460677', 'trades_count': 1}, {'uuid': '7498b75d-c591-4c05-b694-6b86c77112e3', 'side': 'bid', 'ord_type': 'limit', 'price': '41900000', 'state': 'done', 'market': 'KRW-BTC', 'created_at': '2021-01-11T05:54:21+09:00', 'volume': '0.00460534', 'remaining_volume': '0', 'reserved_fee': '96.481873', 'remaining_fee': '0', 'paid_fee': '96.481873', 'locked': '0', 'executed_volume': '0.00460534', 'trades_count': 1}, {'uuid': 'bb0d7186-c548-4aa0-bffc-5510f0ae9bf0', 'side': 'ask', 'ord_type': 'limit', 'price': '10046000', 'state': 'done', 'market': 'KRW-BTC', 'created_at': '2018-03-13T23:08:00+09:00', 'volume': '0.00284726', 'remaining_volume': '0', 'reserved_fee': '0', 'remaining_fee': '0', 'paid_fee': '14.30178698', 'locked': '0', 'executed_volume': '0.00284726', 'trades_count': 1}, {'uuid': '819b3c3e-e516-4d6d-b25b-fb527a27f6ea', 'side': 'ask', 'ord_type': 'limit', 'price': '12681000', 'state': 'done', 'market': 'KRW-BTC', 'created_at': '2018-01-17T19:32:35+09:00', 'volume': '0.00668189', 'remaining_volume': '0', 'reserved_fee': '0', 'remaining_fee': '0', 'paid_fee': '42.366523545', 'locked': '0', 'executed_volume': '0.00668189', 'trades_count': 1}, {'uuid': '990a2b84-b34a-4bf8-88b3-5fd81fdc8118', 'side': 'ask', 'ord_type': 'limit', 'price': '19350000', 'state': 'done', 'market': 'KRW-BTC', 'created_at': '2018-01-14T14:20:02+09:00', 'volume': '0.05802232', 'remaining_volume': '0', 'reserved_fee': '0', 'remaining_fee': '0', 'paid_fee': '561.365946', 'locked': '0', 'executed_volume': '0.05802232', 'trades_count': 1}, {'uuid': '01d6e45c-a6fe-4575-95c6-75897749e276', 'side': 'bid', 'ord_type': 'limit', 'price': '19790000', 'state': 'done', 'market': 'KRW-BTC', 'created_at': '2018-01-14T13:46:45+09:00', 'volume': '0.05802232', 'remaining_volume': '0', 'reserved_fee': '574.1308564', 'remaining_fee': '0', 'paid_fee': '574.1308564', 'locked': '0', 'executed_volume': '0.05802232', 'trades_count': 1}, {'uuid': 'c4ee33b4-a8c5-41a7-839e-143e97c96994', 'side': 'bid', 'ord_type': 'limit', 'price': '19349000', 'state': 'done', 'market': 'KRW-BTC', 'created_at': '2017-12-30T09:35:28+09:00', 'volume': '0.00447218', 'remaining_volume': '0', 'reserved_fee': '43.26610541', 'remaining_fee': '0', 'paid_fee': '43.26610541', 'locked': '0', 'executed_volume': '0.00447218', 'trades_count': 1}, {'uuid': '80de0775-68c7-44b1-ad88-b3a1b57a93f7', 'side': 'ask', 'ord_type': 'limit', 'price': '19569000', 'state': 'done', 'market': 'KRW-BTC', 'created_at': '2017-12-25T15:50:16+09:00', 'volume': '0.00924161', 'remaining_volume': '0', 'reserved_fee': '0', 'remaining_fee': '0', 'paid_fee': '90.424533045', 'locked': '0', 'executed_volume': '0.00924161', 'trades_count': 1}, {'uuid': 'd1a65d32-4b0d-489f-99f2-53ae55388948', 'side': 'ask', 'ord_type': 'limit', 'price': '20929000', 'state': 'done', 'market': 'KRW-BTC', 'created_at': '2017-12-20T10:56:46+09:00', 'volume': '0.00263012', 'remaining_volume': '0', 'reserved_fee': '0', 'remaining_fee': '0', 'paid_fee': '27.5373564', 'locked': '0', 'executed_volume': '0.00263012', 'trades_count': 1}, {'uuid': '40913279-0136-48a3-b39e-a73fab9c5617', 'side': 'bid', 'ord_type': 'limit', 'price': '20450000', 'state': 'done', 'market': 'KRW-BTC', 'created_at': '2017-12-16T16:35:44+09:00', 'volume': '0.0105205', 'remaining_volume': '0', 'reserved_fee': '107.5721125', 'remaining_fee': '0', 'paid_fee': '107.5721125', 'locked': '0', 'executed_volume': '0.0105205', 'trades_count': 1}]\n"
     ]
    }
   ],
   "source": [
    "import pyupbit\n",
    "access = \"wh097D7LzaGLtk8jvybLxuxDqtcHRXyZde3CE9dK\"                         # Upbit API access 키\n",
    "secret = \"MCEq01J8Ha8TJ8WTIBAG99wFPwfow8DoEMnhvwmp\"                          # Upbit API secret 키\n",
    "try:\n",
    "  upbit = pyupbit.Upbit(access, secret)\n",
    "  print(\"Login COMPLETE\")\n",
    "  print(\"====================================\")\n",
    "except:\n",
    "  print(\"!!Login ERROR!!\")\n",
    "# 로그인_끝\n",
    "#체결완료 내용 확인\n",
    "print(upbit.get_order(\"KRW-BTC\", state = \"done\")) "
   ]
  },
  {
   "cell_type": "code",
   "execution_count": 5,
   "metadata": {},
   "outputs": [
    {
     "name": "stdout",
     "output_type": "stream",
     "text": [
      "{'type': 'ticker', 'code': 'KRW-BTC', 'opening_price': 95946000.0, 'high_price': 98000000.0, 'low_price': 95904000.0, 'trade_price': 97985000.0, 'prev_closing_price': 95946000.0, 'acc_trade_price': 286809672176.33093, 'change': 'RISE', 'change_price': 2039000.0, 'signed_change_price': 2039000.0, 'change_rate': 0.0212515373, 'signed_change_rate': 0.0212515373, 'ask_bid': 'BID', 'trade_volume': 0.10195342, 'acc_trade_volume': 2953.6901237, 'trade_date': '20240310', 'trade_time': '103132', 'trade_timestamp': 1710066692687, 'acc_ask_volume': 1258.21230217, 'acc_bid_volume': 1695.47782153, 'highest_52_week_price': 98543000.0, 'highest_52_week_date': '2024-03-08', 'lowest_52_week_price': 28855000.0, 'lowest_52_week_date': '2023-03-13', 'market_state': 'ACTIVE', 'is_trading_suspended': False, 'delisting_date': None, 'market_warning': 'NONE', 'timestamp': 1710066692723, 'acc_trade_price_24h': 447817623523.35, 'acc_trade_volume_24h': 4635.59525863, 'stream_type': 'REALTIME'}\n",
      "{'type': 'ticker', 'code': 'KRW-BTC', 'opening_price': 95946000.0, 'high_price': 98000000.0, 'low_price': 95904000.0, 'trade_price': 97985000.0, 'prev_closing_price': 95946000.0, 'acc_trade_price': 286809872175.4741, 'change': 'RISE', 'change_price': 2039000.0, 'signed_change_price': 2039000.0, 'change_rate': 0.0212515373, 'signed_change_rate': 0.0212515373, 'ask_bid': 'BID', 'trade_volume': 0.00204112, 'acc_trade_volume': 2953.69216482, 'trade_date': '20240310', 'trade_time': '103132', 'trade_timestamp': 1710066692728, 'acc_ask_volume': 1258.21230217, 'acc_bid_volume': 1695.47986265, 'highest_52_week_price': 98543000.0, 'highest_52_week_date': '2024-03-08', 'lowest_52_week_price': 28855000.0, 'lowest_52_week_date': '2023-03-13', 'market_state': 'ACTIVE', 'is_trading_suspended': False, 'delisting_date': None, 'market_warning': 'NONE', 'timestamp': 1710066692762, 'acc_trade_price_24h': 447817623523.35, 'acc_trade_volume_24h': 4635.59525863, 'stream_type': 'REALTIME'}\n",
      "{'type': 'ticker', 'code': 'KRW-BTC', 'opening_price': 95946000.0, 'high_price': 98000000.0, 'low_price': 95904000.0, 'trade_price': 97971000.0, 'prev_closing_price': 95946000.0, 'acc_trade_price': 286810665740.57416, 'change': 'RISE', 'change_price': 2025000.0, 'signed_change_price': 2025000.0, 'change_rate': 0.0211056219, 'signed_change_rate': 0.0211056219, 'ask_bid': 'ASK', 'trade_volume': 0.0081, 'acc_trade_volume': 2953.70026482, 'trade_date': '20240310', 'trade_time': '103132', 'trade_timestamp': 1710066692944, 'acc_ask_volume': 1258.22040217, 'acc_bid_volume': 1695.47986265, 'highest_52_week_price': 98543000.0, 'highest_52_week_date': '2024-03-08', 'lowest_52_week_price': 28855000.0, 'lowest_52_week_date': '2023-03-13', 'market_state': 'ACTIVE', 'is_trading_suspended': False, 'delisting_date': None, 'market_warning': 'NONE', 'timestamp': 1710066692983, 'acc_trade_price_24h': 447817623523.35, 'acc_trade_volume_24h': 4635.59525863, 'stream_type': 'REALTIME'}\n",
      "{'type': 'ticker', 'code': 'KRW-BTC', 'opening_price': 95946000.0, 'high_price': 98000000.0, 'low_price': 95904000.0, 'trade_price': 97971000.0, 'prev_closing_price': 95946000.0, 'acc_trade_price': 286811488696.9741, 'change': 'RISE', 'change_price': 2025000.0, 'signed_change_price': 2025000.0, 'change_rate': 0.0211056219, 'signed_change_rate': 0.0211056219, 'ask_bid': 'ASK', 'trade_volume': 0.0084, 'acc_trade_volume': 2953.70866482, 'trade_date': '20240310', 'trade_time': '103133', 'trade_timestamp': 1710066693064, 'acc_ask_volume': 1258.22880217, 'acc_bid_volume': 1695.47986265, 'highest_52_week_price': 98543000.0, 'highest_52_week_date': '2024-03-08', 'lowest_52_week_price': 28855000.0, 'lowest_52_week_date': '2023-03-13', 'market_state': 'ACTIVE', 'is_trading_suspended': False, 'delisting_date': None, 'market_warning': 'NONE', 'timestamp': 1710066693104, 'acc_trade_price_24h': 447817623523.35, 'acc_trade_volume_24h': 4635.59525863, 'stream_type': 'REALTIME'}\n",
      "{'type': 'ticker', 'code': 'KRW-BTC', 'opening_price': 95946000.0, 'high_price': 98000000.0, 'low_price': 95904000.0, 'trade_price': 97985000.0, 'prev_closing_price': 95946000.0, 'acc_trade_price': 286812488196.88605, 'change': 'RISE', 'change_price': 2039000.0, 'signed_change_price': 2039000.0, 'change_rate': 0.0212515373, 'signed_change_rate': 0.0212515373, 'ask_bid': 'BID', 'trade_volume': 0.01020054, 'acc_trade_volume': 2953.71886536, 'trade_date': '20240310', 'trade_time': '103133', 'trade_timestamp': 1710066693708, 'acc_ask_volume': 1258.22880217, 'acc_bid_volume': 1695.49006319, 'highest_52_week_price': 98543000.0, 'highest_52_week_date': '2024-03-08', 'lowest_52_week_price': 28855000.0, 'lowest_52_week_date': '2023-03-13', 'market_state': 'ACTIVE', 'is_trading_suspended': False, 'delisting_date': None, 'market_warning': 'NONE', 'timestamp': 1710066693746, 'acc_trade_price_24h': 447817623523.35, 'acc_trade_volume_24h': 4635.59525863, 'stream_type': 'REALTIME'}\n",
      "{'type': 'ticker', 'code': 'KRW-BTC', 'opening_price': 95946000.0, 'high_price': 98000000.0, 'low_price': 95904000.0, 'trade_price': 97985000.0, 'prev_closing_price': 95946000.0, 'acc_trade_price': 286812588193.51807, 'change': 'RISE', 'change_price': 2039000.0, 'signed_change_price': 2039000.0, 'change_rate': 0.0212515373, 'signed_change_rate': 0.0212515373, 'ask_bid': 'BID', 'trade_volume': 0.00102053, 'acc_trade_volume': 2953.71988589, 'trade_date': '20240310', 'trade_time': '103133', 'trade_timestamp': 1710066693887, 'acc_ask_volume': 1258.22880217, 'acc_bid_volume': 1695.49108372, 'highest_52_week_price': 98543000.0, 'highest_52_week_date': '2024-03-08', 'lowest_52_week_price': 28855000.0, 'lowest_52_week_date': '2023-03-13', 'market_state': 'ACTIVE', 'is_trading_suspended': False, 'delisting_date': None, 'market_warning': 'NONE', 'timestamp': 1710066693927, 'acc_trade_price_24h': 447817623523.35, 'acc_trade_volume_24h': 4635.59525863, 'stream_type': 'REALTIME'}\n",
      "{'type': 'ticker', 'code': 'KRW-BTC', 'opening_price': 95946000.0, 'high_price': 98000000.0, 'low_price': 95904000.0, 'trade_price': 97985000.0, 'prev_closing_price': 95946000.0, 'acc_trade_price': 286813156617.24115, 'change': 'RISE', 'change_price': 2039000.0, 'signed_change_price': 2039000.0, 'change_rate': 0.0212515373, 'signed_change_rate': 0.0212515373, 'ask_bid': 'BID', 'trade_volume': 0.00580113, 'acc_trade_volume': 2953.72568702, 'trade_date': '20240310', 'trade_time': '103134', 'trade_timestamp': 1710066694274, 'acc_ask_volume': 1258.22880217, 'acc_bid_volume': 1695.49688485, 'highest_52_week_price': 98543000.0, 'highest_52_week_date': '2024-03-08', 'lowest_52_week_price': 28855000.0, 'lowest_52_week_date': '2023-03-13', 'market_state': 'ACTIVE', 'is_trading_suspended': False, 'delisting_date': None, 'market_warning': 'NONE', 'timestamp': 1710066694308, 'acc_trade_price_24h': 447817623523.35, 'acc_trade_volume_24h': 4635.59525863, 'stream_type': 'REALTIME'}\n",
      "{'type': 'ticker', 'code': 'KRW-BTC', 'opening_price': 95946000.0, 'high_price': 98000000.0, 'low_price': 95904000.0, 'trade_price': 97972000.0, 'prev_closing_price': 95946000.0, 'acc_trade_price': 286813165857.9602, 'change': 'RISE', 'change_price': 2026000.0, 'signed_change_price': 2026000.0, 'change_rate': 0.0211160444, 'signed_change_rate': 0.0211160444, 'ask_bid': 'ASK', 'trade_volume': 9.432e-05, 'acc_trade_volume': 2953.72578134, 'trade_date': '20240310', 'trade_time': '103134', 'trade_timestamp': 1710066694425, 'acc_ask_volume': 1258.22889649, 'acc_bid_volume': 1695.49688485, 'highest_52_week_price': 98543000.0, 'highest_52_week_date': '2024-03-08', 'lowest_52_week_price': 28855000.0, 'lowest_52_week_date': '2023-03-13', 'market_state': 'ACTIVE', 'is_trading_suspended': False, 'delisting_date': None, 'market_warning': 'NONE', 'timestamp': 1710066694469, 'acc_trade_price_24h': 447817623523.35, 'acc_trade_volume_24h': 4635.59525863, 'stream_type': 'REALTIME'}\n",
      "{'type': 'ticker', 'code': 'KRW-BTC', 'opening_price': 95946000.0, 'high_price': 98000000.0, 'low_price': 95904000.0, 'trade_price': 97971000.0, 'prev_closing_price': 95946000.0, 'acc_trade_price': 286821345455.77045, 'change': 'RISE', 'change_price': 2025000.0, 'signed_change_price': 2025000.0, 'change_rate': 0.0211056219, 'signed_change_rate': 0.0211056219, 'ask_bid': 'ASK', 'trade_volume': 0.08348999, 'acc_trade_volume': 2953.80927133, 'trade_date': '20240310', 'trade_time': '103134', 'trade_timestamp': 1710066694425, 'acc_ask_volume': 1258.31238648, 'acc_bid_volume': 1695.49688485, 'highest_52_week_price': 98543000.0, 'highest_52_week_date': '2024-03-08', 'lowest_52_week_price': 28855000.0, 'lowest_52_week_date': '2023-03-13', 'market_state': 'ACTIVE', 'is_trading_suspended': False, 'delisting_date': None, 'market_warning': 'NONE', 'timestamp': 1710066694470, 'acc_trade_price_24h': 447817623523.35, 'acc_trade_volume_24h': 4635.59525863, 'stream_type': 'REALTIME'}\n",
      "{'type': 'ticker', 'code': 'KRW-BTC', 'opening_price': 95946000.0, 'high_price': 98000000.0, 'low_price': 95904000.0, 'trade_price': 97971000.0, 'prev_closing_price': 95946000.0, 'acc_trade_price': 286822080238.27045, 'change': 'RISE', 'change_price': 2025000.0, 'signed_change_price': 2025000.0, 'change_rate': 0.0211056219, 'signed_change_rate': 0.0211056219, 'ask_bid': 'ASK', 'trade_volume': 0.0075, 'acc_trade_volume': 2953.81677133, 'trade_date': '20240310', 'trade_time': '103134', 'trade_timestamp': 1710066694451, 'acc_ask_volume': 1258.31988648, 'acc_bid_volume': 1695.49688485, 'highest_52_week_price': 98543000.0, 'highest_52_week_date': '2024-03-08', 'lowest_52_week_price': 28855000.0, 'lowest_52_week_date': '2023-03-13', 'market_state': 'ACTIVE', 'is_trading_suspended': False, 'delisting_date': None, 'market_warning': 'NONE', 'timestamp': 1710066694489, 'acc_trade_price_24h': 447817623523.35, 'acc_trade_volume_24h': 4635.59525863, 'stream_type': 'REALTIME'}\n"
     ]
    }
   ],
   "source": [
    "from pyupbit import WebSocketManager\n",
    "\n",
    "if __name__ == \"__main__\":\n",
    "    wm = WebSocketManager(\"ticker\", [\"KRW-BTC\"])\n",
    "    for i in range(10):\n",
    "        data = wm.get()\n",
    "        print(data)\n",
    "    wm.terminate()"
   ]
  },
  {
   "cell_type": "code",
   "execution_count": 7,
   "metadata": {},
   "outputs": [
    {
     "name": "stdout",
     "output_type": "stream",
     "text": [
      "{'type': 'orderbook', 'code': 'KRW-BTC', 'timestamp': 1710066796133, 'total_ask_size': 63.1293378, 'total_bid_size': 4.04352253, 'orderbook_units': [{'ask_price': 97992000.0, 'bid_price': 97991000.0, 'ask_size': 0.0766978, 'bid_size': 2.44689034}, {'ask_price': 97993000.0, 'bid_price': 97990000.0, 'ask_size': 1.24199163, 'bid_size': 0.43164799}, {'ask_price': 97994000.0, 'bid_price': 97989000.0, 'ask_size': 0.06266466, 'bid_size': 0.12796109}, {'ask_price': 97995000.0, 'bid_price': 97988000.0, 'ask_size': 0.26922331, 'bid_size': 0.0054091}, {'ask_price': 97996000.0, 'bid_price': 97987000.0, 'ask_size': 0.34555911, 'bid_size': 0.02033256}, {'ask_price': 97997000.0, 'bid_price': 97985000.0, 'ask_size': 2.06047949, 'bid_size': 0.03191473}, {'ask_price': 97998000.0, 'bid_price': 97983000.0, 'ask_size': 1.95632631, 'bid_size': 0.00010205}, {'ask_price': 97999000.0, 'bid_price': 97981000.0, 'ask_size': 1.84454295, 'bid_size': 0.00505275}, {'ask_price': 98000000.0, 'bid_price': 97980000.0, 'ask_size': 53.37636066, 'bid_size': 0.0001531}, {'ask_price': 98001000.0, 'bid_price': 97973000.0, 'ask_size': 1.02966071, 'bid_size': 0.00260309}, {'ask_price': 98002000.0, 'bid_price': 97972000.0, 'ask_size': 0.04021852, 'bid_size': 0.19582827}, {'ask_price': 98003000.0, 'bid_price': 97971000.0, 'ask_size': 0.18156721, 'bid_size': 0.75609671}, {'ask_price': 98004000.0, 'bid_price': 97970000.0, 'ask_size': 0.40624498, 'bid_size': 0.00309587}, {'ask_price': 98005000.0, 'bid_price': 97967000.0, 'ask_size': 0.16250694, 'bid_size': 0.01638383}, {'ask_price': 98006000.0, 'bid_price': 97960000.0, 'ask_size': 0.07529352, 'bid_size': 5.105e-05}], 'stream_type': 'REALTIME', 'level': 0}\n",
      "{'type': 'orderbook', 'code': 'KRW-BTC', 'timestamp': 1710066796233, 'total_ask_size': 63.1293378, 'total_bid_size': 4.04352253, 'orderbook_units': [{'ask_price': 97992000.0, 'bid_price': 97991000.0, 'ask_size': 0.0766978, 'bid_size': 2.44689034}, {'ask_price': 97993000.0, 'bid_price': 97990000.0, 'ask_size': 1.24199163, 'bid_size': 0.43164799}, {'ask_price': 97994000.0, 'bid_price': 97989000.0, 'ask_size': 0.06266466, 'bid_size': 0.12796109}, {'ask_price': 97995000.0, 'bid_price': 97988000.0, 'ask_size': 0.26922331, 'bid_size': 0.0054091}, {'ask_price': 97996000.0, 'bid_price': 97987000.0, 'ask_size': 0.34555911, 'bid_size': 0.02033256}, {'ask_price': 97997000.0, 'bid_price': 97985000.0, 'ask_size': 2.06047949, 'bid_size': 0.03191473}, {'ask_price': 97998000.0, 'bid_price': 97983000.0, 'ask_size': 1.95632631, 'bid_size': 0.00010205}, {'ask_price': 97999000.0, 'bid_price': 97981000.0, 'ask_size': 1.84454295, 'bid_size': 0.00505275}, {'ask_price': 98000000.0, 'bid_price': 97980000.0, 'ask_size': 53.37636066, 'bid_size': 0.0001531}, {'ask_price': 98001000.0, 'bid_price': 97973000.0, 'ask_size': 1.02966071, 'bid_size': 0.00260309}, {'ask_price': 98002000.0, 'bid_price': 97972000.0, 'ask_size': 0.04021852, 'bid_size': 0.19582827}, {'ask_price': 98003000.0, 'bid_price': 97971000.0, 'ask_size': 0.18156721, 'bid_size': 0.75609671}, {'ask_price': 98004000.0, 'bid_price': 97970000.0, 'ask_size': 0.40624498, 'bid_size': 0.00309587}, {'ask_price': 98005000.0, 'bid_price': 97967000.0, 'ask_size': 0.16250694, 'bid_size': 0.01638383}, {'ask_price': 98006000.0, 'bid_price': 97960000.0, 'ask_size': 0.07529352, 'bid_size': 5.105e-05}], 'stream_type': 'REALTIME', 'level': 0}\n",
      "{'type': 'orderbook', 'code': 'KRW-BTC', 'timestamp': 1710066796533, 'total_ask_size': 63.12792185, 'total_bid_size': 4.04352253, 'orderbook_units': [{'ask_price': 97992000.0, 'bid_price': 97991000.0, 'ask_size': 0.07528185, 'bid_size': 2.44689034}, {'ask_price': 97993000.0, 'bid_price': 97990000.0, 'ask_size': 1.24199163, 'bid_size': 0.43164799}, {'ask_price': 97994000.0, 'bid_price': 97989000.0, 'ask_size': 0.06266466, 'bid_size': 0.12796109}, {'ask_price': 97995000.0, 'bid_price': 97988000.0, 'ask_size': 0.26922331, 'bid_size': 0.0054091}, {'ask_price': 97996000.0, 'bid_price': 97987000.0, 'ask_size': 0.34555911, 'bid_size': 0.02033256}, {'ask_price': 97997000.0, 'bid_price': 97985000.0, 'ask_size': 2.06047949, 'bid_size': 0.03191473}, {'ask_price': 97998000.0, 'bid_price': 97983000.0, 'ask_size': 1.95632631, 'bid_size': 0.00010205}, {'ask_price': 97999000.0, 'bid_price': 97981000.0, 'ask_size': 1.84454295, 'bid_size': 0.00505275}, {'ask_price': 98000000.0, 'bid_price': 97980000.0, 'ask_size': 53.37636066, 'bid_size': 0.0001531}, {'ask_price': 98001000.0, 'bid_price': 97973000.0, 'ask_size': 1.02966071, 'bid_size': 0.00260309}, {'ask_price': 98002000.0, 'bid_price': 97972000.0, 'ask_size': 0.04021852, 'bid_size': 0.19582827}, {'ask_price': 98003000.0, 'bid_price': 97971000.0, 'ask_size': 0.18156721, 'bid_size': 0.75609671}, {'ask_price': 98004000.0, 'bid_price': 97970000.0, 'ask_size': 0.40624498, 'bid_size': 0.00309587}, {'ask_price': 98005000.0, 'bid_price': 97967000.0, 'ask_size': 0.16250694, 'bid_size': 0.01638383}, {'ask_price': 98006000.0, 'bid_price': 97960000.0, 'ask_size': 0.07529352, 'bid_size': 5.105e-05}], 'stream_type': 'REALTIME', 'level': 0}\n",
      "{'type': 'orderbook', 'code': 'KRW-BTC', 'timestamp': 1710066796633, 'total_ask_size': 63.12792185, 'total_bid_size': 4.05372775, 'orderbook_units': [{'ask_price': 97992000.0, 'bid_price': 97991000.0, 'ask_size': 0.07528185, 'bid_size': 2.44689034}, {'ask_price': 97993000.0, 'bid_price': 97990000.0, 'ask_size': 1.24199163, 'bid_size': 0.44185321}, {'ask_price': 97994000.0, 'bid_price': 97989000.0, 'ask_size': 0.06266466, 'bid_size': 0.12796109}, {'ask_price': 97995000.0, 'bid_price': 97988000.0, 'ask_size': 0.26922331, 'bid_size': 0.0054091}, {'ask_price': 97996000.0, 'bid_price': 97987000.0, 'ask_size': 0.34555911, 'bid_size': 0.02033256}, {'ask_price': 97997000.0, 'bid_price': 97985000.0, 'ask_size': 2.06047949, 'bid_size': 0.03191473}, {'ask_price': 97998000.0, 'bid_price': 97983000.0, 'ask_size': 1.95632631, 'bid_size': 0.00010205}, {'ask_price': 97999000.0, 'bid_price': 97981000.0, 'ask_size': 1.84454295, 'bid_size': 0.00505275}, {'ask_price': 98000000.0, 'bid_price': 97980000.0, 'ask_size': 53.37636066, 'bid_size': 0.0001531}, {'ask_price': 98001000.0, 'bid_price': 97973000.0, 'ask_size': 1.02966071, 'bid_size': 0.00260309}, {'ask_price': 98002000.0, 'bid_price': 97972000.0, 'ask_size': 0.04021852, 'bid_size': 0.19582827}, {'ask_price': 98003000.0, 'bid_price': 97971000.0, 'ask_size': 0.18156721, 'bid_size': 0.75609671}, {'ask_price': 98004000.0, 'bid_price': 97970000.0, 'ask_size': 0.40624498, 'bid_size': 0.00309587}, {'ask_price': 98005000.0, 'bid_price': 97967000.0, 'ask_size': 0.16250694, 'bid_size': 0.01638383}, {'ask_price': 98006000.0, 'bid_price': 97960000.0, 'ask_size': 0.07529352, 'bid_size': 5.105e-05}], 'stream_type': 'REALTIME', 'level': 0}\n",
      "{'type': 'orderbook', 'code': 'KRW-BTC', 'timestamp': 1710066796733, 'total_ask_size': 63.12792185, 'total_bid_size': 4.05111921, 'orderbook_units': [{'ask_price': 97992000.0, 'bid_price': 97991000.0, 'ask_size': 0.07528185, 'bid_size': 2.4442818}, {'ask_price': 97993000.0, 'bid_price': 97990000.0, 'ask_size': 1.24199163, 'bid_size': 0.44185321}, {'ask_price': 97994000.0, 'bid_price': 97989000.0, 'ask_size': 0.06266466, 'bid_size': 0.12796109}, {'ask_price': 97995000.0, 'bid_price': 97988000.0, 'ask_size': 0.26922331, 'bid_size': 0.0054091}, {'ask_price': 97996000.0, 'bid_price': 97987000.0, 'ask_size': 0.34555911, 'bid_size': 0.02033256}, {'ask_price': 97997000.0, 'bid_price': 97985000.0, 'ask_size': 2.06047949, 'bid_size': 0.03191473}, {'ask_price': 97998000.0, 'bid_price': 97983000.0, 'ask_size': 1.95632631, 'bid_size': 0.00010205}, {'ask_price': 97999000.0, 'bid_price': 97981000.0, 'ask_size': 1.84454295, 'bid_size': 0.00505275}, {'ask_price': 98000000.0, 'bid_price': 97980000.0, 'ask_size': 53.37636066, 'bid_size': 0.0001531}, {'ask_price': 98001000.0, 'bid_price': 97973000.0, 'ask_size': 1.02966071, 'bid_size': 0.00260309}, {'ask_price': 98002000.0, 'bid_price': 97972000.0, 'ask_size': 0.04021852, 'bid_size': 0.19582827}, {'ask_price': 98003000.0, 'bid_price': 97971000.0, 'ask_size': 0.18156721, 'bid_size': 0.75609671}, {'ask_price': 98004000.0, 'bid_price': 97970000.0, 'ask_size': 0.40624498, 'bid_size': 0.00309587}, {'ask_price': 98005000.0, 'bid_price': 97967000.0, 'ask_size': 0.16250694, 'bid_size': 0.01638383}, {'ask_price': 98006000.0, 'bid_price': 97960000.0, 'ask_size': 0.07529352, 'bid_size': 5.105e-05}], 'stream_type': 'REALTIME', 'level': 0}\n",
      "{'type': 'orderbook', 'code': 'KRW-BTC', 'timestamp': 1710066796833, 'total_ask_size': 63.12792185, 'total_bid_size': 4.05071921, 'orderbook_units': [{'ask_price': 97992000.0, 'bid_price': 97991000.0, 'ask_size': 0.07528185, 'bid_size': 2.4438818}, {'ask_price': 97993000.0, 'bid_price': 97990000.0, 'ask_size': 1.24199163, 'bid_size': 0.44185321}, {'ask_price': 97994000.0, 'bid_price': 97989000.0, 'ask_size': 0.06266466, 'bid_size': 0.12796109}, {'ask_price': 97995000.0, 'bid_price': 97988000.0, 'ask_size': 0.26922331, 'bid_size': 0.0054091}, {'ask_price': 97996000.0, 'bid_price': 97987000.0, 'ask_size': 0.34555911, 'bid_size': 0.02033256}, {'ask_price': 97997000.0, 'bid_price': 97985000.0, 'ask_size': 2.06047949, 'bid_size': 0.03191473}, {'ask_price': 97998000.0, 'bid_price': 97983000.0, 'ask_size': 1.95632631, 'bid_size': 0.00010205}, {'ask_price': 97999000.0, 'bid_price': 97981000.0, 'ask_size': 1.84454295, 'bid_size': 0.00505275}, {'ask_price': 98000000.0, 'bid_price': 97980000.0, 'ask_size': 53.37636066, 'bid_size': 0.0001531}, {'ask_price': 98001000.0, 'bid_price': 97973000.0, 'ask_size': 1.02966071, 'bid_size': 0.00260309}, {'ask_price': 98002000.0, 'bid_price': 97972000.0, 'ask_size': 0.04021852, 'bid_size': 0.19582827}, {'ask_price': 98003000.0, 'bid_price': 97971000.0, 'ask_size': 0.18156721, 'bid_size': 0.75609671}, {'ask_price': 98004000.0, 'bid_price': 97970000.0, 'ask_size': 0.40624498, 'bid_size': 0.00309587}, {'ask_price': 98005000.0, 'bid_price': 97967000.0, 'ask_size': 0.16250694, 'bid_size': 0.01638383}, {'ask_price': 98006000.0, 'bid_price': 97960000.0, 'ask_size': 0.07529352, 'bid_size': 5.105e-05}], 'stream_type': 'REALTIME', 'level': 0}\n",
      "{'type': 'orderbook', 'code': 'KRW-BTC', 'timestamp': 1710066797033, 'total_ask_size': 63.12792185, 'total_bid_size': 4.05480125, 'orderbook_units': [{'ask_price': 97992000.0, 'bid_price': 97991000.0, 'ask_size': 0.07528185, 'bid_size': 2.4438818}, {'ask_price': 97993000.0, 'bid_price': 97990000.0, 'ask_size': 1.24199163, 'bid_size': 0.44593525}, {'ask_price': 97994000.0, 'bid_price': 97989000.0, 'ask_size': 0.06266466, 'bid_size': 0.12796109}, {'ask_price': 97995000.0, 'bid_price': 97988000.0, 'ask_size': 0.26922331, 'bid_size': 0.0054091}, {'ask_price': 97996000.0, 'bid_price': 97987000.0, 'ask_size': 0.34555911, 'bid_size': 0.02033256}, {'ask_price': 97997000.0, 'bid_price': 97985000.0, 'ask_size': 2.06047949, 'bid_size': 0.03191473}, {'ask_price': 97998000.0, 'bid_price': 97983000.0, 'ask_size': 1.95632631, 'bid_size': 0.00010205}, {'ask_price': 97999000.0, 'bid_price': 97981000.0, 'ask_size': 1.84454295, 'bid_size': 0.00505275}, {'ask_price': 98000000.0, 'bid_price': 97980000.0, 'ask_size': 53.37636066, 'bid_size': 0.0001531}, {'ask_price': 98001000.0, 'bid_price': 97973000.0, 'ask_size': 1.02966071, 'bid_size': 0.00260309}, {'ask_price': 98002000.0, 'bid_price': 97972000.0, 'ask_size': 0.04021852, 'bid_size': 0.19582827}, {'ask_price': 98003000.0, 'bid_price': 97971000.0, 'ask_size': 0.18156721, 'bid_size': 0.75609671}, {'ask_price': 98004000.0, 'bid_price': 97970000.0, 'ask_size': 0.40624498, 'bid_size': 0.00309587}, {'ask_price': 98005000.0, 'bid_price': 97967000.0, 'ask_size': 0.16250694, 'bid_size': 0.01638383}, {'ask_price': 98006000.0, 'bid_price': 97960000.0, 'ask_size': 0.07529352, 'bid_size': 5.105e-05}], 'stream_type': 'REALTIME', 'level': 0}\n",
      "{'type': 'orderbook', 'code': 'KRW-BTC', 'timestamp': 1710066797233, 'total_ask_size': 63.13103478, 'total_bid_size': 3.97173338, 'orderbook_units': [{'ask_price': 97992000.0, 'bid_price': 97991000.0, 'ask_size': 0.07528185, 'bid_size': 2.36081393}, {'ask_price': 97993000.0, 'bid_price': 97990000.0, 'ask_size': 1.24199163, 'bid_size': 0.44593525}, {'ask_price': 97994000.0, 'bid_price': 97989000.0, 'ask_size': 0.06266466, 'bid_size': 0.12796109}, {'ask_price': 97995000.0, 'bid_price': 97988000.0, 'ask_size': 0.26922331, 'bid_size': 0.0054091}, {'ask_price': 97996000.0, 'bid_price': 97987000.0, 'ask_size': 0.34555911, 'bid_size': 0.02033256}, {'ask_price': 97997000.0, 'bid_price': 97985000.0, 'ask_size': 2.06047949, 'bid_size': 0.03191473}, {'ask_price': 97998000.0, 'bid_price': 97983000.0, 'ask_size': 1.95632631, 'bid_size': 0.00010205}, {'ask_price': 97999000.0, 'bid_price': 97981000.0, 'ask_size': 1.84454295, 'bid_size': 0.00505275}, {'ask_price': 98000000.0, 'bid_price': 97980000.0, 'ask_size': 53.37947359, 'bid_size': 0.0001531}, {'ask_price': 98001000.0, 'bid_price': 97973000.0, 'ask_size': 1.02966071, 'bid_size': 0.00260309}, {'ask_price': 98002000.0, 'bid_price': 97972000.0, 'ask_size': 0.04021852, 'bid_size': 0.19582827}, {'ask_price': 98003000.0, 'bid_price': 97971000.0, 'ask_size': 0.18156721, 'bid_size': 0.75609671}, {'ask_price': 98004000.0, 'bid_price': 97970000.0, 'ask_size': 0.40624498, 'bid_size': 0.00309587}, {'ask_price': 98005000.0, 'bid_price': 97967000.0, 'ask_size': 0.16250694, 'bid_size': 0.01638383}, {'ask_price': 98006000.0, 'bid_price': 97960000.0, 'ask_size': 0.07529352, 'bid_size': 5.105e-05}], 'stream_type': 'REALTIME', 'level': 0}\n",
      "{'type': 'orderbook', 'code': 'KRW-BTC', 'timestamp': 1710066797333, 'total_ask_size': 63.13103478, 'total_bid_size': 3.97143543, 'orderbook_units': [{'ask_price': 97992000.0, 'bid_price': 97991000.0, 'ask_size': 0.07528185, 'bid_size': 2.36051598}, {'ask_price': 97993000.0, 'bid_price': 97990000.0, 'ask_size': 1.24199163, 'bid_size': 0.44593525}, {'ask_price': 97994000.0, 'bid_price': 97989000.0, 'ask_size': 0.06266466, 'bid_size': 0.12796109}, {'ask_price': 97995000.0, 'bid_price': 97988000.0, 'ask_size': 0.26922331, 'bid_size': 0.0054091}, {'ask_price': 97996000.0, 'bid_price': 97987000.0, 'ask_size': 0.34555911, 'bid_size': 0.02033256}, {'ask_price': 97997000.0, 'bid_price': 97985000.0, 'ask_size': 2.06047949, 'bid_size': 0.03191473}, {'ask_price': 97998000.0, 'bid_price': 97983000.0, 'ask_size': 1.95632631, 'bid_size': 0.00010205}, {'ask_price': 97999000.0, 'bid_price': 97981000.0, 'ask_size': 1.84454295, 'bid_size': 0.00505275}, {'ask_price': 98000000.0, 'bid_price': 97980000.0, 'ask_size': 53.37947359, 'bid_size': 0.0001531}, {'ask_price': 98001000.0, 'bid_price': 97973000.0, 'ask_size': 1.02966071, 'bid_size': 0.00260309}, {'ask_price': 98002000.0, 'bid_price': 97972000.0, 'ask_size': 0.04021852, 'bid_size': 0.19582827}, {'ask_price': 98003000.0, 'bid_price': 97971000.0, 'ask_size': 0.18156721, 'bid_size': 0.75609671}, {'ask_price': 98004000.0, 'bid_price': 97970000.0, 'ask_size': 0.40624498, 'bid_size': 0.00309587}, {'ask_price': 98005000.0, 'bid_price': 97967000.0, 'ask_size': 0.16250694, 'bid_size': 0.01638383}, {'ask_price': 98006000.0, 'bid_price': 97960000.0, 'ask_size': 0.07529352, 'bid_size': 5.105e-05}], 'stream_type': 'REALTIME', 'level': 0}\n",
      "{'type': 'orderbook', 'code': 'KRW-BTC', 'timestamp': 1710066797433, 'total_ask_size': 63.13103478, 'total_bid_size': 3.97036788, 'orderbook_units': [{'ask_price': 97992000.0, 'bid_price': 97991000.0, 'ask_size': 0.07528185, 'bid_size': 2.36051598}, {'ask_price': 97993000.0, 'bid_price': 97990000.0, 'ask_size': 1.24199163, 'bid_size': 0.44593525}, {'ask_price': 97994000.0, 'bid_price': 97989000.0, 'ask_size': 0.06266466, 'bid_size': 0.12796109}, {'ask_price': 97995000.0, 'bid_price': 97988000.0, 'ask_size': 0.26922331, 'bid_size': 0.0054091}, {'ask_price': 97996000.0, 'bid_price': 97987000.0, 'ask_size': 0.34555911, 'bid_size': 0.01926501}, {'ask_price': 97997000.0, 'bid_price': 97985000.0, 'ask_size': 2.06047949, 'bid_size': 0.03191473}, {'ask_price': 97998000.0, 'bid_price': 97983000.0, 'ask_size': 1.95632631, 'bid_size': 0.00010205}, {'ask_price': 97999000.0, 'bid_price': 97981000.0, 'ask_size': 1.84454295, 'bid_size': 0.00505275}, {'ask_price': 98000000.0, 'bid_price': 97980000.0, 'ask_size': 53.37947359, 'bid_size': 0.0001531}, {'ask_price': 98001000.0, 'bid_price': 97973000.0, 'ask_size': 1.02966071, 'bid_size': 0.00260309}, {'ask_price': 98002000.0, 'bid_price': 97972000.0, 'ask_size': 0.04021852, 'bid_size': 0.19582827}, {'ask_price': 98003000.0, 'bid_price': 97971000.0, 'ask_size': 0.18156721, 'bid_size': 0.75609671}, {'ask_price': 98004000.0, 'bid_price': 97970000.0, 'ask_size': 0.40624498, 'bid_size': 0.00309587}, {'ask_price': 98005000.0, 'bid_price': 97967000.0, 'ask_size': 0.16250694, 'bid_size': 0.01638383}, {'ask_price': 98006000.0, 'bid_price': 97960000.0, 'ask_size': 0.07529352, 'bid_size': 5.105e-05}], 'stream_type': 'REALTIME', 'level': 0}\n"
     ]
    }
   ],
   "source": [
    "from pyupbit import WebSocketManager\n",
    "\n",
    "if __name__ == \"__main__\":\n",
    "    wm = WebSocketManager(\"orderbook\", [\"KRW-BTC\"])\n",
    "    for i in range(10):\n",
    "        data = wm.get()\n",
    "        print(data)\n",
    "    wm.terminate()"
   ]
  },
  {
   "cell_type": "code",
   "execution_count": null,
   "metadata": {},
   "outputs": [],
   "source": [
    "pip install "
   ]
  }
 ],
 "metadata": {
  "kernelspec": {
   "display_name": "Python 3",
   "language": "python",
   "name": "python3"
  },
  "language_info": {
   "codemirror_mode": {
    "name": "ipython",
    "version": 3
   },
   "file_extension": ".py",
   "mimetype": "text/x-python",
   "name": "python",
   "nbconvert_exporter": "python",
   "pygments_lexer": "ipython3",
   "version": "3.11.2"
  }
 },
 "nbformat": 4,
 "nbformat_minor": 2
}
